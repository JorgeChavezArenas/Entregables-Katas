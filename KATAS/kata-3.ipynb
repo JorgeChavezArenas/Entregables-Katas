{
 "cells": [
  {
   "cell_type": "markdown",
   "metadata": {},
   "source": [
    "## Asteroides en el cielo"
   ]
  },
  {
   "cell_type": "code",
   "execution_count": 23,
   "metadata": {},
   "outputs": [
    {
     "name": "stdout",
     "output_type": "stream",
     "text": [
      " Advertencia! Asteoride acercandose rapidamente\n"
     ]
    }
   ],
   "source": [
    "asteroide = 49\n",
    "\n",
    "if asteroide > 25:\n",
    "    print(\" Advertencia! Asteoride acercandose rapidamente\" )\n",
    "else:\n",
    "    print(\"Asteoride acercandonse no presenta peligro\")"
   ]
  },
  {
   "cell_type": "code",
   "execution_count": 24,
   "metadata": {},
   "outputs": [
    {
     "name": "stdout",
     "output_type": "stream",
     "text": [
      "Nada que ver!!!\n"
     ]
    }
   ],
   "source": [
    "asteroide = 19\n",
    "if asteroide >= 20:\n",
    "    print(\"Luz magica en el cielo!\")\n",
    "elif asteroide == 20: \n",
    "    print(\"luz magica en el cielo\")\n",
    "else:\n",
    "    print(\"Nada que ver!!!\")"
   ]
  },
  {
   "cell_type": "code",
   "execution_count": 25,
   "metadata": {},
   "outputs": [
    {
     "name": "stdout",
     "output_type": "stream",
     "text": [
      "Resplandor magico en el cielo\n"
     ]
    }
   ],
   "source": [
    "velocidad_asteroide = 25\n",
    "tamano_asteroide = 40\n",
    "if velocidad_asteroide > 25 and tamano_asteroide >25:\n",
    "    print(\"!Alerta asteroide acercadose preligrosamente!\")\n",
    "elif velocidad_asteroide >= 20:\n",
    "    print(\"Resplandor magico en el cielo\")\n",
    "elif tamano_asteroide < 25:\n",
    "    print(\"Posible resplandor en el cielo\")\n",
    "else:\n",
    "    print(\"!Nada que ver!\")"
   ]
  }
 ],
 "metadata": {
  "interpreter": {
   "hash": "a4e9ac8d2103891dd410307a226482875fb61d3497b7aac9e6d5be5a0e7247b8"
  },
  "kernelspec": {
   "display_name": "Python 3.10.2 ('py_venv': venv)",
   "language": "python",
   "name": "python3"
  },
  "language_info": {
   "codemirror_mode": {
    "name": "ipython",
    "version": 3
   },
   "file_extension": ".py",
   "mimetype": "text/x-python",
   "name": "python",
   "nbconvert_exporter": "python",
   "pygments_lexer": "ipython3",
   "version": "3.10.2"
  },
  "orig_nbformat": 4
 },
 "nbformat": 4,
 "nbformat_minor": 2
}
